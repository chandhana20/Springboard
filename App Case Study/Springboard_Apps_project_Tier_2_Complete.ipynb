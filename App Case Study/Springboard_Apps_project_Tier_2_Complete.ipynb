{
  "nbformat": 4,
  "nbformat_minor": 0,
  "metadata": {
    "kernelspec": {
      "display_name": "Python 3",
      "language": "python",
      "name": "python3"
    },
    "language_info": {
      "codemirror_mode": {
        "name": "ipython",
        "version": 3
      },
      "file_extension": ".py",
      "mimetype": "text/x-python",
      "name": "python",
      "nbconvert_exporter": "python",
      "pygments_lexer": "ipython3",
      "version": "3.7.3"
    },
    "colab": {
      "name": "Springboard Apps project - Tier 2 - Complete.ipynb",
      "provenance": []
    }
  },
  "cells": [
    {
      "cell_type": "markdown",
      "metadata": {
        "id": "o7jtA96-FBJq"
      },
      "source": [
        "# Springboard Apps project - Tier 2 - Complete\n",
        "\n",
        "Welcome to the Apps project! To give you a taste of your future career, we're going to walk through exactly the kind of notebook that you'd write as a data scientist. In the process, we'll be sure to signpost the general framework for our investigation - the Data Science Pipeline - as well as give reasons for why we're doing what we're doing. We're also going to apply some of the skills and knowledge you've built up in the previous unit when reading Professor Spiegelhalter's *The Art of Statistics* (hereinafter *AoS*). \n",
        "\n",
        "So let's get cracking!\n",
        "\n",
        "**Brief**\n",
        "\n",
        "Did Apple Store apps receive better reviews than Google Play apps?\n",
        "\n",
        "## Stages of the project\n",
        "\n",
        "1. Sourcing and loading \n",
        "    * Load the two datasets\n",
        "    * Pick the columns that we are going to work with \n",
        "    * Subsetting the data on this basis \n",
        " \n",
        " \n",
        "2. Cleaning, transforming and visualizing\n",
        "    * Check the data types and fix them\n",
        "    * Add a `platform` column to both the `Apple` and the `Google` dataframes\n",
        "    * Changing the column names to prepare for a join \n",
        "    * Join the two data sets\n",
        "    * Eliminate the `NaN` values\n",
        "    * Filter only those apps that have been reviewed at least once\n",
        "    * Summarize the data visually and analytically (by the column `platform`)  \n",
        "  \n",
        "  \n",
        "3. Modelling \n",
        "    * Hypothesis formulation\n",
        "    * Getting the distribution of the data\n",
        "    * Permutation test \n",
        "\n",
        "\n",
        "4. Evaluating and concluding \n",
        "    * What is our conclusion?\n",
        "    * What is our decision?\n",
        "    * Other models we could have used. \n",
        "    "
      ]
    },
    {
      "cell_type": "markdown",
      "metadata": {
        "id": "CLIx8zP7FBJr"
      },
      "source": [
        "## Importing the libraries\n",
        "\n",
        "In this case we are going to import pandas, numpy, scipy, random and matplotlib.pyplot"
      ]
    },
    {
      "cell_type": "code",
      "metadata": {
        "id": "6VRepPKNFBJr"
      },
      "source": [
        "import pandas as pd\n",
        "import numpy as np\n",
        "import scipy as plt\n",
        "# scipi is a library for statistical tests and visualizations \n",
        "from scipy import stats\n",
        "# random enables us to generate random numbers\n",
        "import random"
      ],
      "execution_count": null,
      "outputs": []
    },
    {
      "cell_type": "markdown",
      "metadata": {
        "id": "6NTgTkPXFBJr"
      },
      "source": [
        "## Stage 1 -  Sourcing and loading data"
      ]
    },
    {
      "cell_type": "markdown",
      "metadata": {
        "id": "XFIYXFyeFBJs"
      },
      "source": [
        "### 1a. Source and load the data\n",
        "Let's download the data from Kaggle. Kaggle is a fantastic resource: a kind of social medium for data scientists, it boasts projects, datasets and news on the freshest libraries and technologies all in one place. The data from the Apple Store can be found [here](https://www.kaggle.com/ramamet4/app-store-apple-data-set-10k-apps) and the data from Google Store can be found [here](https://www.kaggle.com/lava18/google-play-store-apps).\n",
        "Download the datasets and save them in your working directory."
      ]
    },
    {
      "cell_type": "code",
      "metadata": {
        "colab": {
          "base_uri": "https://localhost:8080/",
          "height": 388
        },
        "id": "cLl6hvhYFBJs",
        "outputId": "5850f8a2-57b2-4758-a656-2b18159200b8"
      },
      "source": [
        "# Now that the files are saved, we want to load them into Python using read_csv and pandas.\n",
        "\n",
        "# Create a variable called google, and store in it the path of the csv file that contains your google dataset. \n",
        "# If your dataset is in the same folder as this notebook, the path will simply be the name of the file. \n",
        "\n",
        "# Read the csv file into a data frame called Google using the read_csv() pandas method.\n",
        "Google = pd.read_csv(\"/content/googleplaystore.csv\")\n",
        "\n",
        "# Using the head() pandas method, observe the first three entries.\n",
        "Google.head() "
      ],
      "execution_count": null,
      "outputs": [
        {
          "output_type": "execute_result",
          "data": {
            "text/html": [
              "<div>\n",
              "<style scoped>\n",
              "    .dataframe tbody tr th:only-of-type {\n",
              "        vertical-align: middle;\n",
              "    }\n",
              "\n",
              "    .dataframe tbody tr th {\n",
              "        vertical-align: top;\n",
              "    }\n",
              "\n",
              "    .dataframe thead th {\n",
              "        text-align: right;\n",
              "    }\n",
              "</style>\n",
              "<table border=\"1\" class=\"dataframe\">\n",
              "  <thead>\n",
              "    <tr style=\"text-align: right;\">\n",
              "      <th></th>\n",
              "      <th>App</th>\n",
              "      <th>Category</th>\n",
              "      <th>Rating</th>\n",
              "      <th>Reviews</th>\n",
              "      <th>Size</th>\n",
              "      <th>Installs</th>\n",
              "      <th>Type</th>\n",
              "      <th>Price</th>\n",
              "      <th>Content Rating</th>\n",
              "      <th>Genres</th>\n",
              "      <th>Last Updated</th>\n",
              "      <th>Current Ver</th>\n",
              "      <th>Android Ver</th>\n",
              "    </tr>\n",
              "  </thead>\n",
              "  <tbody>\n",
              "    <tr>\n",
              "      <th>0</th>\n",
              "      <td>Photo Editor &amp; Candy Camera &amp; Grid &amp; ScrapBook</td>\n",
              "      <td>ART_AND_DESIGN</td>\n",
              "      <td>4.1</td>\n",
              "      <td>159</td>\n",
              "      <td>19M</td>\n",
              "      <td>10,000+</td>\n",
              "      <td>Free</td>\n",
              "      <td>0</td>\n",
              "      <td>Everyone</td>\n",
              "      <td>Art &amp; Design</td>\n",
              "      <td>January 7, 2018</td>\n",
              "      <td>1.0.0</td>\n",
              "      <td>4.0.3 and up</td>\n",
              "    </tr>\n",
              "    <tr>\n",
              "      <th>1</th>\n",
              "      <td>Coloring book moana</td>\n",
              "      <td>ART_AND_DESIGN</td>\n",
              "      <td>3.9</td>\n",
              "      <td>967</td>\n",
              "      <td>14M</td>\n",
              "      <td>500,000+</td>\n",
              "      <td>Free</td>\n",
              "      <td>0</td>\n",
              "      <td>Everyone</td>\n",
              "      <td>Art &amp; Design;Pretend Play</td>\n",
              "      <td>January 15, 2018</td>\n",
              "      <td>2.0.0</td>\n",
              "      <td>4.0.3 and up</td>\n",
              "    </tr>\n",
              "    <tr>\n",
              "      <th>2</th>\n",
              "      <td>U Launcher Lite – FREE Live Cool Themes, Hide ...</td>\n",
              "      <td>ART_AND_DESIGN</td>\n",
              "      <td>4.7</td>\n",
              "      <td>87510</td>\n",
              "      <td>8.7M</td>\n",
              "      <td>5,000,000+</td>\n",
              "      <td>Free</td>\n",
              "      <td>0</td>\n",
              "      <td>Everyone</td>\n",
              "      <td>Art &amp; Design</td>\n",
              "      <td>August 1, 2018</td>\n",
              "      <td>1.2.4</td>\n",
              "      <td>4.0.3 and up</td>\n",
              "    </tr>\n",
              "    <tr>\n",
              "      <th>3</th>\n",
              "      <td>Sketch - Draw &amp; Paint</td>\n",
              "      <td>ART_AND_DESIGN</td>\n",
              "      <td>4.5</td>\n",
              "      <td>215644</td>\n",
              "      <td>25M</td>\n",
              "      <td>50,000,000+</td>\n",
              "      <td>Free</td>\n",
              "      <td>0</td>\n",
              "      <td>Teen</td>\n",
              "      <td>Art &amp; Design</td>\n",
              "      <td>June 8, 2018</td>\n",
              "      <td>Varies with device</td>\n",
              "      <td>4.2 and up</td>\n",
              "    </tr>\n",
              "    <tr>\n",
              "      <th>4</th>\n",
              "      <td>Pixel Draw - Number Art Coloring Book</td>\n",
              "      <td>ART_AND_DESIGN</td>\n",
              "      <td>4.3</td>\n",
              "      <td>967</td>\n",
              "      <td>2.8M</td>\n",
              "      <td>100,000+</td>\n",
              "      <td>Free</td>\n",
              "      <td>0</td>\n",
              "      <td>Everyone</td>\n",
              "      <td>Art &amp; Design;Creativity</td>\n",
              "      <td>June 20, 2018</td>\n",
              "      <td>1.1</td>\n",
              "      <td>4.4 and up</td>\n",
              "    </tr>\n",
              "  </tbody>\n",
              "</table>\n",
              "</div>"
            ],
            "text/plain": [
              "                                                 App  ...   Android Ver\n",
              "0     Photo Editor & Candy Camera & Grid & ScrapBook  ...  4.0.3 and up\n",
              "1                                Coloring book moana  ...  4.0.3 and up\n",
              "2  U Launcher Lite – FREE Live Cool Themes, Hide ...  ...  4.0.3 and up\n",
              "3                              Sketch - Draw & Paint  ...    4.2 and up\n",
              "4              Pixel Draw - Number Art Coloring Book  ...    4.4 and up\n",
              "\n",
              "[5 rows x 13 columns]"
            ]
          },
          "metadata": {
            "tags": []
          },
          "execution_count": 26
        }
      ]
    },
    {
      "cell_type": "code",
      "metadata": {
        "colab": {
          "base_uri": "https://localhost:8080/",
          "height": 296
        },
        "id": "64xugqfxFBJt",
        "outputId": "e7f1e80e-eacd-4f7f-dc79-06239721450c"
      },
      "source": [
        "# Create a variable called apple, and store in it the path of the csv file that contains your apple dataset. \n",
        "\n",
        "\n",
        "# Read the csv file into a pandas DataFrame object called Apple.\n",
        "Apple = pd.read_csv(\"/content/AppleStore.csv\")\n",
        "# Observe the first three entries like you did with your other data. \n",
        "Apple.head(3)"
      ],
      "execution_count": null,
      "outputs": [
        {
          "output_type": "execute_result",
          "data": {
            "text/html": [
              "<div>\n",
              "<style scoped>\n",
              "    .dataframe tbody tr th:only-of-type {\n",
              "        vertical-align: middle;\n",
              "    }\n",
              "\n",
              "    .dataframe tbody tr th {\n",
              "        vertical-align: top;\n",
              "    }\n",
              "\n",
              "    .dataframe thead th {\n",
              "        text-align: right;\n",
              "    }\n",
              "</style>\n",
              "<table border=\"1\" class=\"dataframe\">\n",
              "  <thead>\n",
              "    <tr style=\"text-align: right;\">\n",
              "      <th></th>\n",
              "      <th>Unnamed: 0</th>\n",
              "      <th>id</th>\n",
              "      <th>track_name</th>\n",
              "      <th>size_bytes</th>\n",
              "      <th>currency</th>\n",
              "      <th>price</th>\n",
              "      <th>rating_count_tot</th>\n",
              "      <th>rating_count_ver</th>\n",
              "      <th>user_rating</th>\n",
              "      <th>user_rating_ver</th>\n",
              "      <th>ver</th>\n",
              "      <th>cont_rating</th>\n",
              "      <th>prime_genre</th>\n",
              "      <th>sup_devices.num</th>\n",
              "      <th>ipadSc_urls.num</th>\n",
              "      <th>lang.num</th>\n",
              "      <th>vpp_lic</th>\n",
              "    </tr>\n",
              "  </thead>\n",
              "  <tbody>\n",
              "    <tr>\n",
              "      <th>0</th>\n",
              "      <td>1</td>\n",
              "      <td>281656475</td>\n",
              "      <td>PAC-MAN Premium</td>\n",
              "      <td>100788224</td>\n",
              "      <td>USD</td>\n",
              "      <td>3.99</td>\n",
              "      <td>21292</td>\n",
              "      <td>26</td>\n",
              "      <td>4.0</td>\n",
              "      <td>4.5</td>\n",
              "      <td>6.3.5</td>\n",
              "      <td>4+</td>\n",
              "      <td>Games</td>\n",
              "      <td>38</td>\n",
              "      <td>5</td>\n",
              "      <td>10</td>\n",
              "      <td>1</td>\n",
              "    </tr>\n",
              "    <tr>\n",
              "      <th>1</th>\n",
              "      <td>2</td>\n",
              "      <td>281796108</td>\n",
              "      <td>Evernote - stay organized</td>\n",
              "      <td>158578688</td>\n",
              "      <td>USD</td>\n",
              "      <td>0.00</td>\n",
              "      <td>161065</td>\n",
              "      <td>26</td>\n",
              "      <td>4.0</td>\n",
              "      <td>3.5</td>\n",
              "      <td>8.2.2</td>\n",
              "      <td>4+</td>\n",
              "      <td>Productivity</td>\n",
              "      <td>37</td>\n",
              "      <td>5</td>\n",
              "      <td>23</td>\n",
              "      <td>1</td>\n",
              "    </tr>\n",
              "    <tr>\n",
              "      <th>2</th>\n",
              "      <td>3</td>\n",
              "      <td>281940292</td>\n",
              "      <td>WeatherBug - Local Weather, Radar, Maps, Alerts</td>\n",
              "      <td>100524032</td>\n",
              "      <td>USD</td>\n",
              "      <td>0.00</td>\n",
              "      <td>188583</td>\n",
              "      <td>2822</td>\n",
              "      <td>3.5</td>\n",
              "      <td>4.5</td>\n",
              "      <td>5.0.0</td>\n",
              "      <td>4+</td>\n",
              "      <td>Weather</td>\n",
              "      <td>37</td>\n",
              "      <td>5</td>\n",
              "      <td>3</td>\n",
              "      <td>1</td>\n",
              "    </tr>\n",
              "  </tbody>\n",
              "</table>\n",
              "</div>"
            ],
            "text/plain": [
              "   Unnamed: 0         id  ... lang.num  vpp_lic\n",
              "0           1  281656475  ...       10        1\n",
              "1           2  281796108  ...       23        1\n",
              "2           3  281940292  ...        3        1\n",
              "\n",
              "[3 rows x 17 columns]"
            ]
          },
          "metadata": {
            "tags": []
          },
          "execution_count": 27
        }
      ]
    },
    {
      "cell_type": "markdown",
      "metadata": {
        "id": "YxD5lStcFBJt"
      },
      "source": [
        "### 1b. Pick the columns we'll work with\n",
        "\n",
        "From the documentation of these datasets, we can infer that the most appropriate columns to answer the brief are:\n",
        "\n",
        "1. Google:\n",
        "    * `Category` # Do we need this?\n",
        "    * `Rating`\n",
        "    * `Reviews`\n",
        "    * `Price` (maybe)\n",
        "2. Apple:    \n",
        "    * `prime_genre` # Do we need this?\n",
        "    * `user_rating` \n",
        "    * `rating_count_tot`\n",
        "    * `price` (maybe)"
      ]
    },
    {
      "cell_type": "markdown",
      "metadata": {
        "id": "iwY_Xxt7FBJt"
      },
      "source": [
        "### 1c. Subsetting accordingly\n",
        "\n",
        "Let's select only those columns that we want to work with from both datasets. We'll overwrite the subsets in the original variables."
      ]
    },
    {
      "cell_type": "code",
      "metadata": {
        "colab": {
          "base_uri": "https://localhost:8080/",
          "height": 142
        },
        "id": "69vx6xncFBJu",
        "outputId": "795d3ced-a419-4697-c951-630167b0d81c"
      },
      "source": [
        "# Subset our DataFrame object Google by selecting just the variables ['Category', 'Rating', 'Reviews', 'Price']\n",
        "Google = Google[['Category', 'Rating', 'Reviews', 'Price']]\n",
        "\n",
        "# Check the first three entries\n",
        "Google.head(3)"
      ],
      "execution_count": null,
      "outputs": [
        {
          "output_type": "execute_result",
          "data": {
            "text/html": [
              "<div>\n",
              "<style scoped>\n",
              "    .dataframe tbody tr th:only-of-type {\n",
              "        vertical-align: middle;\n",
              "    }\n",
              "\n",
              "    .dataframe tbody tr th {\n",
              "        vertical-align: top;\n",
              "    }\n",
              "\n",
              "    .dataframe thead th {\n",
              "        text-align: right;\n",
              "    }\n",
              "</style>\n",
              "<table border=\"1\" class=\"dataframe\">\n",
              "  <thead>\n",
              "    <tr style=\"text-align: right;\">\n",
              "      <th></th>\n",
              "      <th>Category</th>\n",
              "      <th>Rating</th>\n",
              "      <th>Reviews</th>\n",
              "      <th>Price</th>\n",
              "    </tr>\n",
              "  </thead>\n",
              "  <tbody>\n",
              "    <tr>\n",
              "      <th>0</th>\n",
              "      <td>ART_AND_DESIGN</td>\n",
              "      <td>4.1</td>\n",
              "      <td>159</td>\n",
              "      <td>0</td>\n",
              "    </tr>\n",
              "    <tr>\n",
              "      <th>1</th>\n",
              "      <td>ART_AND_DESIGN</td>\n",
              "      <td>3.9</td>\n",
              "      <td>967</td>\n",
              "      <td>0</td>\n",
              "    </tr>\n",
              "    <tr>\n",
              "      <th>2</th>\n",
              "      <td>ART_AND_DESIGN</td>\n",
              "      <td>4.7</td>\n",
              "      <td>87510</td>\n",
              "      <td>0</td>\n",
              "    </tr>\n",
              "  </tbody>\n",
              "</table>\n",
              "</div>"
            ],
            "text/plain": [
              "         Category  Rating Reviews Price\n",
              "0  ART_AND_DESIGN     4.1     159     0\n",
              "1  ART_AND_DESIGN     3.9     967     0\n",
              "2  ART_AND_DESIGN     4.7   87510     0"
            ]
          },
          "metadata": {
            "tags": []
          },
          "execution_count": 28
        }
      ]
    },
    {
      "cell_type": "code",
      "metadata": {
        "colab": {
          "base_uri": "https://localhost:8080/",
          "height": 142
        },
        "id": "AxirwaebFBJu",
        "outputId": "697d21e7-7323-4b40-cbcc-03ec096a3133"
      },
      "source": [
        "# Do the same with our Apple object, selecting just the variables ['prime_genre', 'user_rating', 'rating_count_tot', 'price']\n",
        "Apple = Apple[['prime_genre', 'user_rating', 'rating_count_tot', 'price']] \n",
        "\n",
        "# Let's check the first three entries\n",
        "Apple.head(3) "
      ],
      "execution_count": null,
      "outputs": [
        {
          "output_type": "execute_result",
          "data": {
            "text/html": [
              "<div>\n",
              "<style scoped>\n",
              "    .dataframe tbody tr th:only-of-type {\n",
              "        vertical-align: middle;\n",
              "    }\n",
              "\n",
              "    .dataframe tbody tr th {\n",
              "        vertical-align: top;\n",
              "    }\n",
              "\n",
              "    .dataframe thead th {\n",
              "        text-align: right;\n",
              "    }\n",
              "</style>\n",
              "<table border=\"1\" class=\"dataframe\">\n",
              "  <thead>\n",
              "    <tr style=\"text-align: right;\">\n",
              "      <th></th>\n",
              "      <th>prime_genre</th>\n",
              "      <th>user_rating</th>\n",
              "      <th>rating_count_tot</th>\n",
              "      <th>price</th>\n",
              "    </tr>\n",
              "  </thead>\n",
              "  <tbody>\n",
              "    <tr>\n",
              "      <th>0</th>\n",
              "      <td>Games</td>\n",
              "      <td>4.0</td>\n",
              "      <td>21292</td>\n",
              "      <td>3.99</td>\n",
              "    </tr>\n",
              "    <tr>\n",
              "      <th>1</th>\n",
              "      <td>Productivity</td>\n",
              "      <td>4.0</td>\n",
              "      <td>161065</td>\n",
              "      <td>0.00</td>\n",
              "    </tr>\n",
              "    <tr>\n",
              "      <th>2</th>\n",
              "      <td>Weather</td>\n",
              "      <td>3.5</td>\n",
              "      <td>188583</td>\n",
              "      <td>0.00</td>\n",
              "    </tr>\n",
              "  </tbody>\n",
              "</table>\n",
              "</div>"
            ],
            "text/plain": [
              "    prime_genre  user_rating  rating_count_tot  price\n",
              "0         Games          4.0             21292   3.99\n",
              "1  Productivity          4.0            161065   0.00\n",
              "2       Weather          3.5            188583   0.00"
            ]
          },
          "metadata": {
            "tags": []
          },
          "execution_count": 29
        }
      ]
    },
    {
      "cell_type": "markdown",
      "metadata": {
        "id": "Tw1fp0_8FBJu"
      },
      "source": [
        "## Stage 2 -  Cleaning, transforming and visualizing"
      ]
    },
    {
      "cell_type": "markdown",
      "metadata": {
        "id": "kWEzMF4CFBJu"
      },
      "source": [
        "### 2a. Check the data types for both Apple and Google, and fix them\n",
        "\n",
        "Types are crucial for data science in Python. Let's determine whether the variables we selected in the previous section belong to the types they should do, or whether there are any errors here. "
      ]
    },
    {
      "cell_type": "code",
      "metadata": {
        "colab": {
          "base_uri": "https://localhost:8080/"
        },
        "id": "y4SyDh-1FBJv",
        "outputId": "d9b04400-2b63-464a-f9f6-eb0a304c0273"
      },
      "source": [
        "# Using the dtypes feature of pandas DataFrame objects, check out the data types within our Apple dataframe.\n",
        "# Are they what you expect?\n",
        "Apple.dtypes"
      ],
      "execution_count": null,
      "outputs": [
        {
          "output_type": "execute_result",
          "data": {
            "text/plain": [
              "prime_genre          object\n",
              "user_rating         float64\n",
              "rating_count_tot      int64\n",
              "price               float64\n",
              "dtype: object"
            ]
          },
          "metadata": {
            "tags": []
          },
          "execution_count": 30
        }
      ]
    },
    {
      "cell_type": "markdown",
      "metadata": {
        "id": "xKYksIDJFBJv"
      },
      "source": [
        "This is looking healthy. But what about our Google data frame?"
      ]
    },
    {
      "cell_type": "code",
      "metadata": {
        "colab": {
          "base_uri": "https://localhost:8080/"
        },
        "id": "PVne7PehFBJv",
        "outputId": "72f2ca27-64f0-4805-9b5f-67a4596ce42f"
      },
      "source": [
        "# Using the same dtypes feature, check out the data types of our Google dataframe. \n",
        "Google.dtypes"
      ],
      "execution_count": null,
      "outputs": [
        {
          "output_type": "execute_result",
          "data": {
            "text/plain": [
              "Category     object\n",
              "Rating      float64\n",
              "Reviews      object\n",
              "Price        object\n",
              "dtype: object"
            ]
          },
          "metadata": {
            "tags": []
          },
          "execution_count": 31
        }
      ]
    },
    {
      "cell_type": "markdown",
      "metadata": {
        "id": "fVPi7ybEFBJv"
      },
      "source": [
        "Weird. The data type for the column 'Price' is 'object', not a numeric data type like a float or an integer. Let's investigate the unique values of this column. "
      ]
    },
    {
      "cell_type": "code",
      "metadata": {
        "colab": {
          "base_uri": "https://localhost:8080/"
        },
        "id": "TcNM3fO6FBJw",
        "outputId": "c39c6af9-ea11-45ca-be8a-263b25415809"
      },
      "source": [
        "# Use the unique() pandas method on the Price column to check its unique values. \n",
        "Google['Price'].unique()"
      ],
      "execution_count": null,
      "outputs": [
        {
          "output_type": "execute_result",
          "data": {
            "text/plain": [
              "array(['0', '$4.99', '$3.99', '$6.99', '$1.49', '$2.99', '$7.99', '$5.99',\n",
              "       '$3.49', '$1.99', '$9.99', '$7.49', '$0.99', '$9.00', '$5.49',\n",
              "       '$10.00', '$24.99', '$11.99', '$79.99', '$16.99', '$14.99',\n",
              "       '$1.00', '$29.99', '$12.99', '$2.49', '$10.99', '$1.50', '$19.99',\n",
              "       '$15.99', '$33.99', '$74.99', '$39.99', '$3.95', '$4.49', '$1.70',\n",
              "       '$8.99', '$2.00', '$3.88', '$25.99', '$399.99', '$17.99',\n",
              "       '$400.00', '$3.02', '$1.76', '$4.84', '$4.77', '$1.61', '$2.50',\n",
              "       '$1.59', '$6.49', '$1.29', '$5.00', '$13.99', '$299.99', '$379.99',\n",
              "       '$37.99', '$18.99', '$389.99', '$19.90', '$8.49', '$1.75',\n",
              "       '$14.00', '$4.85', '$46.99', '$109.99', '$154.99', '$3.08',\n",
              "       '$2.59', '$4.80', '$1.96', '$19.40', '$3.90', '$4.59', '$15.46',\n",
              "       '$3.04', '$4.29', '$2.60', '$3.28', '$4.60', '$28.99', '$2.95',\n",
              "       '$2.90', '$1.97', '$200.00', '$89.99', '$2.56', '$30.99', '$3.61',\n",
              "       '$394.99', '$1.26', 'Everyone', '$1.20', '$1.04'], dtype=object)"
            ]
          },
          "metadata": {
            "tags": []
          },
          "execution_count": 32
        }
      ]
    },
    {
      "cell_type": "markdown",
      "metadata": {
        "id": "iHIzf1VBFBJw"
      },
      "source": [
        "Aha! Fascinating. There are actually two issues here. \n",
        "\n",
        "- Firstly, there's a price called `Everyone`. That is a massive mistake! \n",
        "- Secondly, there are dollar symbols everywhere! \n",
        "\n",
        "\n",
        "Let's address the first issue first. Let's check the datapoints that have the price value `Everyone`"
      ]
    },
    {
      "cell_type": "code",
      "metadata": {
        "colab": {
          "base_uri": "https://localhost:8080/",
          "height": 80
        },
        "id": "G-Svo7ctFBJw",
        "outputId": "eb7bf453-1950-4496-d41c-fa2eea163512"
      },
      "source": [
        "# Let's check which data points have the value 'Everyone' for the 'Price' column by subsetting our Google dataframe.\n",
        "\n",
        "# Subset the Google dataframe on the price column. \n",
        "# To be sure: you want to pick out just those rows whose value for the 'Price' column is just 'Everyone'. \n",
        "Google[Google['Price']=='Everyone']"
      ],
      "execution_count": null,
      "outputs": [
        {
          "output_type": "execute_result",
          "data": {
            "text/html": [
              "<div>\n",
              "<style scoped>\n",
              "    .dataframe tbody tr th:only-of-type {\n",
              "        vertical-align: middle;\n",
              "    }\n",
              "\n",
              "    .dataframe tbody tr th {\n",
              "        vertical-align: top;\n",
              "    }\n",
              "\n",
              "    .dataframe thead th {\n",
              "        text-align: right;\n",
              "    }\n",
              "</style>\n",
              "<table border=\"1\" class=\"dataframe\">\n",
              "  <thead>\n",
              "    <tr style=\"text-align: right;\">\n",
              "      <th></th>\n",
              "      <th>Category</th>\n",
              "      <th>Rating</th>\n",
              "      <th>Reviews</th>\n",
              "      <th>Price</th>\n",
              "    </tr>\n",
              "  </thead>\n",
              "  <tbody>\n",
              "    <tr>\n",
              "      <th>10472</th>\n",
              "      <td>1.9</td>\n",
              "      <td>19.0</td>\n",
              "      <td>3.0M</td>\n",
              "      <td>Everyone</td>\n",
              "    </tr>\n",
              "  </tbody>\n",
              "</table>\n",
              "</div>"
            ],
            "text/plain": [
              "      Category  Rating Reviews     Price\n",
              "10472      1.9    19.0    3.0M  Everyone"
            ]
          },
          "metadata": {
            "tags": []
          },
          "execution_count": 33
        }
      ]
    },
    {
      "cell_type": "markdown",
      "metadata": {
        "id": "DXumjXE5FBJw"
      },
      "source": [
        "Thankfully, it's just one row. We've gotta get rid of it. "
      ]
    },
    {
      "cell_type": "code",
      "metadata": {
        "colab": {
          "base_uri": "https://localhost:8080/"
        },
        "id": "YmFUMXUXFBJw",
        "outputId": "c1b2c5e6-6d2e-4f24-f242-165b76968744"
      },
      "source": [
        "# Let's eliminate that row. \n",
        "\n",
        "# Subset our Google dataframe to pick out just those rows whose value for the 'Price' column is NOT 'Everyone'. \n",
        "# Reassign that subset to the Google variable. \n",
        "# You can do this in two lines or one. Your choice! \n",
        "Google = Google[Google['Price'] != 'Everyone']\n",
        "\n",
        "Google['Price'].unique()\n",
        "\n",
        "\n"
      ],
      "execution_count": null,
      "outputs": [
        {
          "output_type": "execute_result",
          "data": {
            "text/plain": [
              "array(['0', '$4.99', '$3.99', '$6.99', '$1.49', '$2.99', '$7.99', '$5.99',\n",
              "       '$3.49', '$1.99', '$9.99', '$7.49', '$0.99', '$9.00', '$5.49',\n",
              "       '$10.00', '$24.99', '$11.99', '$79.99', '$16.99', '$14.99',\n",
              "       '$1.00', '$29.99', '$12.99', '$2.49', '$10.99', '$1.50', '$19.99',\n",
              "       '$15.99', '$33.99', '$74.99', '$39.99', '$3.95', '$4.49', '$1.70',\n",
              "       '$8.99', '$2.00', '$3.88', '$25.99', '$399.99', '$17.99',\n",
              "       '$400.00', '$3.02', '$1.76', '$4.84', '$4.77', '$1.61', '$2.50',\n",
              "       '$1.59', '$6.49', '$1.29', '$5.00', '$13.99', '$299.99', '$379.99',\n",
              "       '$37.99', '$18.99', '$389.99', '$19.90', '$8.49', '$1.75',\n",
              "       '$14.00', '$4.85', '$46.99', '$109.99', '$154.99', '$3.08',\n",
              "       '$2.59', '$4.80', '$1.96', '$19.40', '$3.90', '$4.59', '$15.46',\n",
              "       '$3.04', '$4.29', '$2.60', '$3.28', '$4.60', '$28.99', '$2.95',\n",
              "       '$2.90', '$1.97', '$200.00', '$89.99', '$2.56', '$30.99', '$3.61',\n",
              "       '$394.99', '$1.26', '$1.20', '$1.04'], dtype=object)"
            ]
          },
          "metadata": {
            "tags": []
          },
          "execution_count": 34
        }
      ]
    },
    {
      "cell_type": "markdown",
      "metadata": {
        "id": "KFHpeHn_FBJx"
      },
      "source": [
        "Our second problem remains: I'm seeing dollar symbols when I close my eyes! (And not in a good way). \n",
        "\n",
        "This is a problem because Python actually considers these values strings. So we can't do mathematical and statistical operations on them until we've made them into numbers. "
      ]
    },
    {
      "cell_type": "code",
      "metadata": {
        "id": "4hLAh3LSFBJx"
      },
      "source": [
        "# Let's create a variable called nosymb.\n",
        "# This variable will take the Price column of Google and apply the str.replace() method. \n",
        "# Remember: we want to find '$' and replace it with nothing, so we'll have to write approrpiate arguments to the method to achieve this. \n",
        "Google['Price'] = Google['Price'].str.replace('$','')\n",
        "\n",
        "# Now we need to do two things:\n",
        "# i. Make the values in the nosymb variable numeric using the to_numeric() pandas method.\n",
        "# ii. Assign this new set of numeric, dollar-sign-less values to Google['Price']. \n",
        "# You can do this in one line if you wish.\n",
        "Google['Price'] = pd.to_numeric(Google['Price'])"
      ],
      "execution_count": null,
      "outputs": []
    },
    {
      "cell_type": "markdown",
      "metadata": {
        "id": "IfD8DVMtFBJx"
      },
      "source": [
        "Now let's check the data types for our Google dataframe again, to verify that the 'Price' column really is numeric now."
      ]
    },
    {
      "cell_type": "code",
      "metadata": {
        "colab": {
          "base_uri": "https://localhost:8080/"
        },
        "id": "4rL-m-brFBJx",
        "outputId": "d1c3cd50-349f-4c7e-9f1a-d7a52d9bf178"
      },
      "source": [
        "# Use the function dtypes. \n",
        "Google.dtypes"
      ],
      "execution_count": null,
      "outputs": [
        {
          "output_type": "execute_result",
          "data": {
            "text/plain": [
              "Category     object\n",
              "Rating      float64\n",
              "Reviews      object\n",
              "Price       float64\n",
              "dtype: object"
            ]
          },
          "metadata": {
            "tags": []
          },
          "execution_count": 36
        }
      ]
    },
    {
      "cell_type": "markdown",
      "metadata": {
        "id": "rIwkjngsFBJx"
      },
      "source": [
        "Notice that the column `Reviews` is still an object column. We actually need this column to be a numeric column, too. "
      ]
    },
    {
      "cell_type": "code",
      "metadata": {
        "id": "xOHqmH4qFBJy"
      },
      "source": [
        "# Convert the 'Reviews' column to a numeric data type. \n",
        "# Use the method pd.to_numeric(), and save the result in the same column.\n",
        "Google['Reviews'] = pd.to_numeric(Google['Reviews'] )"
      ],
      "execution_count": null,
      "outputs": []
    },
    {
      "cell_type": "code",
      "metadata": {
        "colab": {
          "base_uri": "https://localhost:8080/"
        },
        "id": "XizPWWEgFBJy",
        "outputId": "d208601b-021e-493f-e639-fdc4ca642b5a"
      },
      "source": [
        "# Let's check the data types of Google again\n",
        "Google.dtypes"
      ],
      "execution_count": null,
      "outputs": [
        {
          "output_type": "execute_result",
          "data": {
            "text/plain": [
              "Category     object\n",
              "Rating      float64\n",
              "Reviews       int64\n",
              "Price       float64\n",
              "dtype: object"
            ]
          },
          "metadata": {
            "tags": []
          },
          "execution_count": 38
        }
      ]
    },
    {
      "cell_type": "markdown",
      "metadata": {
        "id": "c_DE2xH3FBJy"
      },
      "source": [
        "### 2b. Add a `platform` column to both the `Apple` and the `Google` dataframes\n",
        "Let's add a new column to both dataframe objects called `platform`: all of its values in the Google dataframe will be just 'google', and all of its values for the Apple dataframe will be just 'apple'. \n",
        "\n",
        "The reason we're making this column is so that we can ultimately join our Apple and Google data together, and actually test out some hypotheses to solve the problem in our brief. "
      ]
    },
    {
      "cell_type": "code",
      "metadata": {
        "id": "Et2gEVAvFBJy"
      },
      "source": [
        "# Create a column called 'platform' in both the Apple and Google dataframes. \n",
        "# Add the value 'apple' and the value 'google' as appropriate. \n",
        "Apple['platform'] = 'apple'\n",
        "Google['platform'] = 'google'"
      ],
      "execution_count": null,
      "outputs": []
    },
    {
      "cell_type": "markdown",
      "metadata": {
        "id": "IS-9u2SLFBJz"
      },
      "source": [
        "### 2c. Changing the column names to prepare for our join of the two datasets \n",
        "Since the easiest way to join two datasets is if they have both:\n",
        "- the same number of columns\n",
        "- the same column names\n",
        "we need to rename the columns of `Apple` so that they're the same as the ones of `Google`, or vice versa.\n",
        "\n",
        "In this case, we're going to change the `Apple` columns names to the names of the `Google` columns. \n",
        "\n",
        "This is an important step to unify the two datasets!"
      ]
    },
    {
      "cell_type": "code",
      "metadata": {
        "id": "KGwD9U_SFBJz"
      },
      "source": [
        "# Create a variable called old_names where you'll store the column names of the Apple dataframe. \n",
        "# Use the feature .columns.\n",
        "old_names =Apple.columns\n",
        "\n",
        "# Create a variable called new_names where you'll store the column names of the Google dataframe. \n",
        "new_names = Google.columns\n",
        "\n",
        "# Use the rename() DataFrame method to change the columns names. \n",
        "# In the columns parameter of the rename() method, use this construction: dict(zip(old_names,new_names)).\n",
        "Apple = Apple.rename(columns = dict(zip(old_names,new_names)))"
      ],
      "execution_count": null,
      "outputs": []
    },
    {
      "cell_type": "markdown",
      "metadata": {
        "id": "YTbFLvs9FBJz"
      },
      "source": [
        "### 2d. Join the two datasets \n",
        "Let's combine the two datasets into a single data frame called `df`."
      ]
    },
    {
      "cell_type": "code",
      "metadata": {
        "colab": {
          "base_uri": "https://localhost:8080/",
          "height": 418
        },
        "id": "edAZtHdXFBJz",
        "outputId": "39f1b682-f112-4d18-a459-1a9acd6b06fe"
      },
      "source": [
        "# Let's use the append() method to append Apple to Google. \n",
        "# Make Apple the first parameter of append(), and make the second parameter just: ignore_index = True.\n",
        "df = Google.append(Apple, ignore_index= True)\n",
        "\n",
        "# Using the sample() method with the number 12 passed to it, check 12 random points of your dataset.\n",
        "df.sample(12)"
      ],
      "execution_count": null,
      "outputs": [
        {
          "output_type": "execute_result",
          "data": {
            "text/html": [
              "<div>\n",
              "<style scoped>\n",
              "    .dataframe tbody tr th:only-of-type {\n",
              "        vertical-align: middle;\n",
              "    }\n",
              "\n",
              "    .dataframe tbody tr th {\n",
              "        vertical-align: top;\n",
              "    }\n",
              "\n",
              "    .dataframe thead th {\n",
              "        text-align: right;\n",
              "    }\n",
              "</style>\n",
              "<table border=\"1\" class=\"dataframe\">\n",
              "  <thead>\n",
              "    <tr style=\"text-align: right;\">\n",
              "      <th></th>\n",
              "      <th>Category</th>\n",
              "      <th>Rating</th>\n",
              "      <th>Reviews</th>\n",
              "      <th>Price</th>\n",
              "      <th>platform</th>\n",
              "    </tr>\n",
              "  </thead>\n",
              "  <tbody>\n",
              "    <tr>\n",
              "      <th>4422</th>\n",
              "      <td>COMMUNICATION</td>\n",
              "      <td>4.4</td>\n",
              "      <td>2473795</td>\n",
              "      <td>0.00</td>\n",
              "      <td>google</td>\n",
              "    </tr>\n",
              "    <tr>\n",
              "      <th>4935</th>\n",
              "      <td>TOOLS</td>\n",
              "      <td>2.2</td>\n",
              "      <td>32</td>\n",
              "      <td>0.00</td>\n",
              "      <td>google</td>\n",
              "    </tr>\n",
              "    <tr>\n",
              "      <th>7483</th>\n",
              "      <td>HEALTH_AND_FITNESS</td>\n",
              "      <td>2.7</td>\n",
              "      <td>3</td>\n",
              "      <td>0.00</td>\n",
              "      <td>google</td>\n",
              "    </tr>\n",
              "    <tr>\n",
              "      <th>16969</th>\n",
              "      <td>Entertainment</td>\n",
              "      <td>4.5</td>\n",
              "      <td>5768</td>\n",
              "      <td>0.00</td>\n",
              "      <td>apple</td>\n",
              "    </tr>\n",
              "    <tr>\n",
              "      <th>1360</th>\n",
              "      <td>HEALTH_AND_FITNESS</td>\n",
              "      <td>4.8</td>\n",
              "      <td>4559407</td>\n",
              "      <td>0.00</td>\n",
              "      <td>google</td>\n",
              "    </tr>\n",
              "    <tr>\n",
              "      <th>4175</th>\n",
              "      <td>LIFESTYLE</td>\n",
              "      <td>4.5</td>\n",
              "      <td>231</td>\n",
              "      <td>0.99</td>\n",
              "      <td>google</td>\n",
              "    </tr>\n",
              "    <tr>\n",
              "      <th>4045</th>\n",
              "      <td>GAME</td>\n",
              "      <td>4.2</td>\n",
              "      <td>951</td>\n",
              "      <td>0.00</td>\n",
              "      <td>google</td>\n",
              "    </tr>\n",
              "    <tr>\n",
              "      <th>17159</th>\n",
              "      <td>Games</td>\n",
              "      <td>4.5</td>\n",
              "      <td>98</td>\n",
              "      <td>0.00</td>\n",
              "      <td>apple</td>\n",
              "    </tr>\n",
              "    <tr>\n",
              "      <th>13140</th>\n",
              "      <td>Games</td>\n",
              "      <td>4.5</td>\n",
              "      <td>160</td>\n",
              "      <td>4.99</td>\n",
              "      <td>apple</td>\n",
              "    </tr>\n",
              "    <tr>\n",
              "      <th>12734</th>\n",
              "      <td>Education</td>\n",
              "      <td>2.0</td>\n",
              "      <td>3</td>\n",
              "      <td>4.99</td>\n",
              "      <td>apple</td>\n",
              "    </tr>\n",
              "    <tr>\n",
              "      <th>10670</th>\n",
              "      <td>GAME</td>\n",
              "      <td>4.1</td>\n",
              "      <td>88941</td>\n",
              "      <td>0.00</td>\n",
              "      <td>google</td>\n",
              "    </tr>\n",
              "    <tr>\n",
              "      <th>2306</th>\n",
              "      <td>MEDICAL</td>\n",
              "      <td>4.4</td>\n",
              "      <td>27524</td>\n",
              "      <td>0.00</td>\n",
              "      <td>google</td>\n",
              "    </tr>\n",
              "  </tbody>\n",
              "</table>\n",
              "</div>"
            ],
            "text/plain": [
              "                 Category  Rating  Reviews  Price platform\n",
              "4422        COMMUNICATION     4.4  2473795   0.00   google\n",
              "4935                TOOLS     2.2       32   0.00   google\n",
              "7483   HEALTH_AND_FITNESS     2.7        3   0.00   google\n",
              "16969       Entertainment     4.5     5768   0.00    apple\n",
              "1360   HEALTH_AND_FITNESS     4.8  4559407   0.00   google\n",
              "4175            LIFESTYLE     4.5      231   0.99   google\n",
              "4045                 GAME     4.2      951   0.00   google\n",
              "17159               Games     4.5       98   0.00    apple\n",
              "13140               Games     4.5      160   4.99    apple\n",
              "12734           Education     2.0        3   4.99    apple\n",
              "10670                GAME     4.1    88941   0.00   google\n",
              "2306              MEDICAL     4.4    27524   0.00   google"
            ]
          },
          "metadata": {
            "tags": []
          },
          "execution_count": 41
        }
      ]
    },
    {
      "cell_type": "markdown",
      "metadata": {
        "id": "ZvSllEZuFBJz"
      },
      "source": [
        "### 2e. Eliminate the NaN values\n",
        "\n",
        "As you can see there are some `NaN` values. We want to eliminate all these `NaN` values from the table."
      ]
    },
    {
      "cell_type": "code",
      "metadata": {
        "colab": {
          "base_uri": "https://localhost:8080/"
        },
        "id": "M_bLR7x_FBJ0",
        "outputId": "639f0669-b575-47c8-835c-8b8df6575128"
      },
      "source": [
        "# Lets check first the dimesions of df before droping `NaN` values. Use the .shape feature. \n",
        "print(df.shape)\n",
        "\n",
        "# Use the dropna() method to eliminate all the NaN values, and overwrite the same dataframe with the result. \n",
        "# Note: dropna() by default removes all rows containing at least one NaN. \n",
        "df =  df.dropna()\n",
        "# Check the new dimesions of our dataframe. \n",
        "print(df.shape)\n"
      ],
      "execution_count": null,
      "outputs": [
        {
          "output_type": "stream",
          "text": [
            "(18037, 5)\n",
            "(16563, 5)\n"
          ],
          "name": "stdout"
        }
      ]
    },
    {
      "cell_type": "markdown",
      "metadata": {
        "id": "YZJsgIpkFBJ0"
      },
      "source": [
        "### 2f. Filter the data so that we only see whose apps that have been reviewed at least once\n",
        "\n",
        "Apps that haven't been reviewed yet can't help us solve our brief. \n",
        "\n",
        "So let's check to see if any apps have no reviews at all. "
      ]
    },
    {
      "cell_type": "code",
      "metadata": {
        "colab": {
          "base_uri": "https://localhost:8080/"
        },
        "id": "Xic07d4qFBJ0",
        "outputId": "d9b2d576-a510-4e02-d86f-67fc563e8382"
      },
      "source": [
        "# Subset your df to pick out just those rows whose value for 'Reviews' is equal to 0. \n",
        "# Do a count() on the result. \n",
        "df[df['Reviews'] == 0].count()"
      ],
      "execution_count": null,
      "outputs": [
        {
          "output_type": "execute_result",
          "data": {
            "text/plain": [
              "Category    929\n",
              "Rating      929\n",
              "Reviews     929\n",
              "Price       929\n",
              "platform    929\n",
              "dtype: int64"
            ]
          },
          "metadata": {
            "tags": []
          },
          "execution_count": 43
        }
      ]
    },
    {
      "cell_type": "markdown",
      "metadata": {
        "id": "mtd_JgJbFBJ0"
      },
      "source": [
        "929 apps do not have reviews, we need to eliminate these points!"
      ]
    },
    {
      "cell_type": "code",
      "metadata": {
        "id": "oxVh46Q8FBJ0"
      },
      "source": [
        "# Eliminate the points that have 0 reviews.\n",
        "# An elegant way to do this is to assign df the result of picking out just those rows in df whose value for 'Reviews' is NOT 0.\n",
        "df = df[df['Reviews'] != 0]"
      ],
      "execution_count": null,
      "outputs": []
    },
    {
      "cell_type": "markdown",
      "metadata": {
        "id": "BPKniEGBFBJ1"
      },
      "source": [
        "### 2g. Summarize the data visually and analytically (by the column `platform`)"
      ]
    },
    {
      "cell_type": "markdown",
      "metadata": {
        "id": "kuadfm0rFBJ1"
      },
      "source": [
        "What we need to solve our brief is a summary of the `Rating` column, but separated by the different platforms."
      ]
    },
    {
      "cell_type": "code",
      "metadata": {
        "colab": {
          "base_uri": "https://localhost:8080/",
          "height": 142
        },
        "id": "qgvB6pqmFBJ1",
        "outputId": "2db69551-1311-4672-989a-caad63c1cc61"
      },
      "source": [
        "# To summarize analytically, let's use the groupby() method on our df.\n",
        "# For its parameters, let's assign its 'by' parameter 'platform', and then make sure we're seeing 'Rating' too. \n",
        "# Finally, call describe() on the result. We can do this in one line, but this isn't necessary. \n",
        "df.groupby('platform')['Rating'].describe()"
      ],
      "execution_count": null,
      "outputs": [
        {
          "output_type": "execute_result",
          "data": {
            "text/html": [
              "<div>\n",
              "<style scoped>\n",
              "    .dataframe tbody tr th:only-of-type {\n",
              "        vertical-align: middle;\n",
              "    }\n",
              "\n",
              "    .dataframe tbody tr th {\n",
              "        vertical-align: top;\n",
              "    }\n",
              "\n",
              "    .dataframe thead th {\n",
              "        text-align: right;\n",
              "    }\n",
              "</style>\n",
              "<table border=\"1\" class=\"dataframe\">\n",
              "  <thead>\n",
              "    <tr style=\"text-align: right;\">\n",
              "      <th></th>\n",
              "      <th>count</th>\n",
              "      <th>mean</th>\n",
              "      <th>std</th>\n",
              "      <th>min</th>\n",
              "      <th>25%</th>\n",
              "      <th>50%</th>\n",
              "      <th>75%</th>\n",
              "      <th>max</th>\n",
              "    </tr>\n",
              "    <tr>\n",
              "      <th>platform</th>\n",
              "      <th></th>\n",
              "      <th></th>\n",
              "      <th></th>\n",
              "      <th></th>\n",
              "      <th></th>\n",
              "      <th></th>\n",
              "      <th></th>\n",
              "      <th></th>\n",
              "    </tr>\n",
              "  </thead>\n",
              "  <tbody>\n",
              "    <tr>\n",
              "      <th>apple</th>\n",
              "      <td>6268.0</td>\n",
              "      <td>4.049697</td>\n",
              "      <td>0.726943</td>\n",
              "      <td>1.0</td>\n",
              "      <td>4.0</td>\n",
              "      <td>4.5</td>\n",
              "      <td>4.5</td>\n",
              "      <td>5.0</td>\n",
              "    </tr>\n",
              "    <tr>\n",
              "      <th>google</th>\n",
              "      <td>9366.0</td>\n",
              "      <td>4.191757</td>\n",
              "      <td>0.515219</td>\n",
              "      <td>1.0</td>\n",
              "      <td>4.0</td>\n",
              "      <td>4.3</td>\n",
              "      <td>4.5</td>\n",
              "      <td>5.0</td>\n",
              "    </tr>\n",
              "  </tbody>\n",
              "</table>\n",
              "</div>"
            ],
            "text/plain": [
              "           count      mean       std  min  25%  50%  75%  max\n",
              "platform                                                     \n",
              "apple     6268.0  4.049697  0.726943  1.0  4.0  4.5  4.5  5.0\n",
              "google    9366.0  4.191757  0.515219  1.0  4.0  4.3  4.5  5.0"
            ]
          },
          "metadata": {
            "tags": []
          },
          "execution_count": 45
        }
      ]
    },
    {
      "cell_type": "markdown",
      "metadata": {
        "id": "YCMxIs5WFBJ1"
      },
      "source": [
        "Interesting! Our means of 4.049697 and 4.191757 don't **seem** all that different! Perhaps we've solved our brief already: there's no significant difference between Google Play app reviews and Apple Store app reviews. We have an ***observed difference*** here: which is simply (4.191757 - 4.049697) = 0.14206. This is just the actual difference that we observed between the mean rating for apps from Google Play, and the mean rating for apps from the Apple Store. Let's look at how we're going to use this observed difference to solve our problem using a statistical test. \n",
        "\n",
        "**Outline of our method:**\n",
        "1. We'll assume that platform (i.e, whether the app was Google or Apple) really doesn’t impact on ratings. \n",
        "\n",
        "\n",
        "2. Given this assumption, we should actually be able to get a difference in mean rating for Apple apps and mean rating for Google apps that's pretty similar to the one we actually got (0.14206) just by: \n",
        "a. shuffling the ratings column, \n",
        "b. keeping the platform column the same,\n",
        "c. calculating the difference between the mean rating for Apple and the mean rating for Google. \n",
        "\n",
        "\n",
        "3. We can make the shuffle more useful by doing it many times, each time calculating the mean rating for Apple apps and the mean rating for Google apps, and the difference between these means. \n",
        "\n",
        "\n",
        "4. We can then take the mean of all these differences, and this will be called our permutation difference. This permutation difference will be great indicator of what the difference would be if our initial assumption were true and platform really doesn’t impact on ratings. \n",
        "\n",
        "\n",
        "5. Now we do a comparison. If the observed difference looks just like the permutation difference, then we stick with the claim that actually, platform doesn’t impact on ratings. If instead, however, the permutation difference differs significantly from the observed difference, we'll conclude: something's going on; the platform does in fact impact on ratings. \n",
        "\n",
        "\n",
        "6. As for what the definition of *significantly* is, we'll get to that. But there’s a brief summary of what we're going to do. Exciting!\n",
        "\n",
        "If you want to look more deeply at the statistics behind this project, check out [this resource](https://www.springboard.com/archeio/download/4ea4d453b0b84014bcef287c50f47f00/)."
      ]
    },
    {
      "cell_type": "markdown",
      "metadata": {
        "id": "amVthxF-FBJ1"
      },
      "source": [
        "Let's also get a **visual summary** of the `Rating` column, separated by the different platforms. \n",
        "\n",
        "A good tool to use here is the boxplot!"
      ]
    },
    {
      "cell_type": "code",
      "metadata": {
        "colab": {
          "base_uri": "https://localhost:8080/",
          "height": 409
        },
        "id": "VDaRTtkXFBJ2",
        "outputId": "ac1e9a67-2c83-49db-b510-d0413c506823"
      },
      "source": [
        "# Call the boxplot() method on our df.\n",
        "# Set the parameters: by = 'platform' and column = ['Rating'].\n",
        "df.boxplot(by='platform', column = [\"Rating\"], grid=False, rot=45, fontsize=15)"
      ],
      "execution_count": null,
      "outputs": [
        {
          "output_type": "stream",
          "text": [
            "/usr/local/lib/python3.7/dist-packages/numpy/core/_asarray.py:83: VisibleDeprecationWarning: Creating an ndarray from ragged nested sequences (which is a list-or-tuple of lists-or-tuples-or ndarrays with different lengths or shapes) is deprecated. If you meant to do this, you must specify 'dtype=object' when creating the ndarray\n",
            "  return array(a, dtype, copy=False, order=order)\n"
          ],
          "name": "stderr"
        },
        {
          "output_type": "execute_result",
          "data": {
            "text/plain": [
              "<matplotlib.axes._subplots.AxesSubplot at 0x7f0b848d6310>"
            ]
          },
          "metadata": {
            "tags": []
          },
          "execution_count": 47
        },
        {
          "output_type": "display_data",
          "data": {
            "image/png": "[encoded data removed]",
            "text/plain": [
              "<Figure size 432x288 with 1 Axes>"
            ]
          },
          "metadata": {
            "tags": [],
            "needs_background": "light"
          }
        }
      ]
    },
    {
      "cell_type": "markdown",
      "metadata": {
        "id": "92LyHLGRFBJ2"
      },
      "source": [
        "Here we see the same information as in the analytical summary, but with a boxplot. Can you see how the boxplot is working here? If you need to revise your boxplots, check out this this [link](https://www.kaggle.com/ramamet4/app-store-apple-data-set-10k-apps). "
      ]
    },
    {
      "cell_type": "markdown",
      "metadata": {
        "id": "cAmk0ANjFBJ2"
      },
      "source": [
        "## Stage 3 - Modelling"
      ]
    },
    {
      "cell_type": "markdown",
      "metadata": {
        "id": "xrj6xGXHFBJ2"
      },
      "source": [
        "### 3a. Hypothesis formulation\n",
        "\n",
        "Our **Null hypothesis** is just:\n",
        "\n",
        "**H<sub>null</sub>**: the observed difference in the mean rating of Apple Store and Google Play apps is due to chance (and thus not due to the platform).\n",
        "\n",
        "The more interesting hypothesis is called the **Alternate hypothesis**:\n",
        "\n",
        "**H<sub>alternative</sub>**: the observed difference in the average ratings of apple and google users is not due to chance (and is actually due to platform)\n",
        "\n",
        "We're also going to pick a **significance level** of 0.05. "
      ]
    },
    {
      "cell_type": "markdown",
      "metadata": {
        "id": "ZRnCxW1tFBJ2"
      },
      "source": [
        "### 3b. Getting the distribution of the data\n",
        "Now that the hypotheses and significance level are defined, we can select a statistical test to determine which hypothesis to accept. \n",
        "\n",
        "There are many different statistical tests, all with different assumptions. You'll generate an excellent judgement about when to use which statistical tests over the Data Science Career Track. But in general, one of the most important things to determine is the **distribution of the data**.   "
      ]
    },
    {
      "cell_type": "code",
      "metadata": {
        "id": "_TCEnYwsFBJ3"
      },
      "source": [
        "# Create a subset of the column 'Rating' by the different platforms.\n",
        "# Call the subsets 'apple' and 'google' \n",
        "apple = df[df['platform'] == 'apple']['Rating']\n",
        "google = df[df['platform']== 'google']['Rating']"
      ],
      "execution_count": null,
      "outputs": []
    },
    {
      "cell_type": "code",
      "metadata": {
        "colab": {
          "base_uri": "https://localhost:8080/"
        },
        "id": "vr_hwh74FBJ3",
        "outputId": "b27b5d63-4e9b-4700-c61a-97535fb7a6e8"
      },
      "source": [
        "# Using the stats.normaltest() method, get an indication of whether the apple data are normally distributed\n",
        "# Save the result in a variable called apple_normal, and print it out\n",
        "# Since the null hypothesis of the normaltest() is that the data is normally distributed, the lower the p-value in the result of this test, the more likely the data are to be normally distributed.\n",
        "apple_normal = stats.normaltest(apple)\n",
        "print(apple_normal)"
      ],
      "execution_count": null,
      "outputs": [
        {
          "output_type": "stream",
          "text": [
            "NormaltestResult(statistic=1778.9974234584017, pvalue=0.0)\n"
          ],
          "name": "stdout"
        }
      ]
    },
    {
      "cell_type": "code",
      "metadata": {
        "colab": {
          "base_uri": "https://localhost:8080/"
        },
        "id": "Vm3RnGyIFBJ3",
        "outputId": "9ad1e828-01f2-4a39-b09b-21c32e214a4e"
      },
      "source": [
        "# Do the same with the google data. \n",
        "# Save the result in a variable called google_normal\n",
        "google_normal = stats.normaltest(google)\n",
        "print(google_normal)"
      ],
      "execution_count": null,
      "outputs": [
        {
          "output_type": "stream",
          "text": [
            "NormaltestResult(statistic=3678.6157187516856, pvalue=0.0)\n"
          ],
          "name": "stdout"
        }
      ]
    },
    {
      "cell_type": "markdown",
      "metadata": {
        "id": "SzgsYxPAFBJ3"
      },
      "source": [
        "Since the null hypothesis of the normaltest() is that the data are normally distributed, the lower the p-value in the result of this test, the more likely the data are to be non-normal. \n",
        "\n",
        "Since the p-values is 0 for both tests, regardless of what we pick for the significance level, our conclusion is that the data are not normally distributed. \n",
        "\n",
        "We can actually also check out the distribution of the data visually with a histogram. A normal distribution has the following visual characteristics:\n",
        "    - symmetric\n",
        "    - unimodal (one hump)\n",
        "As well as a roughly identical mean, median and mode. "
      ]
    },
    {
      "cell_type": "code",
      "metadata": {
        "colab": {
          "base_uri": "https://localhost:8080/",
          "height": 195
        },
        "id": "OlrHN7lOFBJ3",
        "outputId": "7ab65517-5052-4bad-f401-e5ffec758fe2"
      },
      "source": [
        "# Create a histogram of the apple reviews distribution\n",
        "# You'll use the plt.hist() method here, and pass your apple data to it\n",
        "\n",
        "import scipy.stats \n",
        "histoApple = plt.hist()"
      ],
      "execution_count": null,
      "outputs": [
        {
          "output_type": "error",
          "ename": "AttributeError",
          "evalue": "ignored",
          "traceback": [
            "\u001b[0;31m---------------------------------------------------------------------------\u001b[0m",
            "\u001b[0;31mAttributeError\u001b[0m                            Traceback (most recent call last)",
            "\u001b[0;32m<ipython-input-67-3f233d8f41ef>\u001b[0m in \u001b[0;36m<module>\u001b[0;34m()\u001b[0m\n\u001b[1;32m      3\u001b[0m \u001b[0;34m\u001b[0m\u001b[0m\n\u001b[1;32m      4\u001b[0m \u001b[0;32mimport\u001b[0m \u001b[0mscipy\u001b[0m\u001b[0;34m.\u001b[0m\u001b[0mstats\u001b[0m\u001b[0;34m\u001b[0m\u001b[0;34m\u001b[0m\u001b[0m\n\u001b[0;32m----> 5\u001b[0;31m \u001b[0mhistoApple\u001b[0m \u001b[0;34m=\u001b[0m \u001b[0mplt\u001b[0m\u001b[0;34m.\u001b[0m\u001b[0mhist\u001b[0m\u001b[0;34m(\u001b[0m\u001b[0;34m)\u001b[0m\u001b[0;34m\u001b[0m\u001b[0;34m\u001b[0m\u001b[0m\n\u001b[0m",
            "\u001b[0;31mAttributeError\u001b[0m: module 'scipy' has no attribute 'hist'"
          ]
        }
      ]
    },
    {
      "cell_type": "code",
      "metadata": {
        "colab": {
          "base_uri": "https://localhost:8080/",
          "height": 178
        },
        "id": "SC_QoJuMFBJ3",
        "outputId": "46d46ad7-a1a7-449e-9782-d396da265e9c"
      },
      "source": [
        "# Create a histogram of the google data\n",
        "histoGoogle = plt.hist(google)"
      ],
      "execution_count": null,
      "outputs": [
        {
          "output_type": "error",
          "ename": "AttributeError",
          "evalue": "ignored",
          "traceback": [
            "\u001b[0;31m---------------------------------------------------------------------------\u001b[0m",
            "\u001b[0;31mAttributeError\u001b[0m                            Traceback (most recent call last)",
            "\u001b[0;32m<ipython-input-59-7e4919bd56c1>\u001b[0m in \u001b[0;36m<module>\u001b[0;34m()\u001b[0m\n\u001b[1;32m      1\u001b[0m \u001b[0;31m# Create a histogram of the google data\u001b[0m\u001b[0;34m\u001b[0m\u001b[0;34m\u001b[0m\u001b[0;34m\u001b[0m\u001b[0m\n\u001b[0;32m----> 2\u001b[0;31m \u001b[0mhistoGoogle\u001b[0m \u001b[0;34m=\u001b[0m \u001b[0mplt\u001b[0m\u001b[0;34m.\u001b[0m\u001b[0mhist\u001b[0m\u001b[0;34m(\u001b[0m\u001b[0mgoogle\u001b[0m\u001b[0;34m)\u001b[0m\u001b[0;34m\u001b[0m\u001b[0;34m\u001b[0m\u001b[0m\n\u001b[0m",
            "\u001b[0;31mAttributeError\u001b[0m: module 'scipy' has no attribute 'hist'"
          ]
        }
      ]
    },
    {
      "cell_type": "markdown",
      "metadata": {
        "id": "moUphW7IFBJ4"
      },
      "source": [
        "### 3c. Permutation test\n",
        "Since the data aren't normally distributed, we're using a *non-parametric* test here. This is simply a label for statistical tests used when the data aren't normally distributed. These tests are extraordinarily powerful due to how few assumptions we need to make.  \n",
        "\n",
        "Check out more about permutations [here.](http://rasbt.github.io/mlxtend/user_guide/evaluate/permutation_test/)"
      ]
    },
    {
      "cell_type": "code",
      "metadata": {
        "colab": {
          "base_uri": "https://localhost:8080/",
          "height": 142
        },
        "id": "_HLedVDlFBJ4",
        "outputId": "87badba6-13b0-4f46-cbb1-f8c1e36155ec"
      },
      "source": [
        "# Create a column called `Permutation1`, and assign to it the result of permuting (shuffling) the Rating column\n",
        "# This assignment will use our numpy object's random.permutation() method\n",
        "df['Permutation1'] = np.random.permutation(df['Rating'])\n",
        "\n",
        "# Call the describe() method on our permutation grouped by 'platform'. \n",
        "df.groupby(by='platform')['Permutation1'].describe()"
      ],
      "execution_count": null,
      "outputs": [
        {
          "output_type": "execute_result",
          "data": {
            "text/html": [
              "<div>\n",
              "<style scoped>\n",
              "    .dataframe tbody tr th:only-of-type {\n",
              "        vertical-align: middle;\n",
              "    }\n",
              "\n",
              "    .dataframe tbody tr th {\n",
              "        vertical-align: top;\n",
              "    }\n",
              "\n",
              "    .dataframe thead th {\n",
              "        text-align: right;\n",
              "    }\n",
              "</style>\n",
              "<table border=\"1\" class=\"dataframe\">\n",
              "  <thead>\n",
              "    <tr style=\"text-align: right;\">\n",
              "      <th></th>\n",
              "      <th>count</th>\n",
              "      <th>mean</th>\n",
              "      <th>std</th>\n",
              "      <th>min</th>\n",
              "      <th>25%</th>\n",
              "      <th>50%</th>\n",
              "      <th>75%</th>\n",
              "      <th>max</th>\n",
              "    </tr>\n",
              "    <tr>\n",
              "      <th>platform</th>\n",
              "      <th></th>\n",
              "      <th></th>\n",
              "      <th></th>\n",
              "      <th></th>\n",
              "      <th></th>\n",
              "      <th></th>\n",
              "      <th></th>\n",
              "      <th></th>\n",
              "    </tr>\n",
              "  </thead>\n",
              "  <tbody>\n",
              "    <tr>\n",
              "      <th>apple</th>\n",
              "      <td>6268.0</td>\n",
              "      <td>4.117486</td>\n",
              "      <td>0.625145</td>\n",
              "      <td>1.0</td>\n",
              "      <td>4.0</td>\n",
              "      <td>4.3</td>\n",
              "      <td>4.5</td>\n",
              "      <td>5.0</td>\n",
              "    </tr>\n",
              "    <tr>\n",
              "      <th>google</th>\n",
              "      <td>9366.0</td>\n",
              "      <td>4.146391</td>\n",
              "      <td>0.604413</td>\n",
              "      <td>1.0</td>\n",
              "      <td>4.0</td>\n",
              "      <td>4.3</td>\n",
              "      <td>4.5</td>\n",
              "      <td>5.0</td>\n",
              "    </tr>\n",
              "  </tbody>\n",
              "</table>\n",
              "</div>"
            ],
            "text/plain": [
              "           count      mean       std  min  25%  50%  75%  max\n",
              "platform                                                     \n",
              "apple     6268.0  4.117486  0.625145  1.0  4.0  4.3  4.5  5.0\n",
              "google    9366.0  4.146391  0.604413  1.0  4.0  4.3  4.5  5.0"
            ]
          },
          "metadata": {
            "tags": []
          },
          "execution_count": 60
        }
      ]
    },
    {
      "cell_type": "code",
      "metadata": {
        "colab": {
          "base_uri": "https://localhost:8080/",
          "height": 142
        },
        "id": "XFbsLUWNFBJ4",
        "outputId": "b016002c-d19e-455a-d5a0-87e2aba5fb5a"
      },
      "source": [
        "# Lets compare with the previous analytical summary:\n",
        "df.groupby(by='platform')['Rating'].describe()"
      ],
      "execution_count": null,
      "outputs": [
        {
          "output_type": "execute_result",
          "data": {
            "text/html": [
              "<div>\n",
              "<style scoped>\n",
              "    .dataframe tbody tr th:only-of-type {\n",
              "        vertical-align: middle;\n",
              "    }\n",
              "\n",
              "    .dataframe tbody tr th {\n",
              "        vertical-align: top;\n",
              "    }\n",
              "\n",
              "    .dataframe thead th {\n",
              "        text-align: right;\n",
              "    }\n",
              "</style>\n",
              "<table border=\"1\" class=\"dataframe\">\n",
              "  <thead>\n",
              "    <tr style=\"text-align: right;\">\n",
              "      <th></th>\n",
              "      <th>count</th>\n",
              "      <th>mean</th>\n",
              "      <th>std</th>\n",
              "      <th>min</th>\n",
              "      <th>25%</th>\n",
              "      <th>50%</th>\n",
              "      <th>75%</th>\n",
              "      <th>max</th>\n",
              "    </tr>\n",
              "    <tr>\n",
              "      <th>platform</th>\n",
              "      <th></th>\n",
              "      <th></th>\n",
              "      <th></th>\n",
              "      <th></th>\n",
              "      <th></th>\n",
              "      <th></th>\n",
              "      <th></th>\n",
              "      <th></th>\n",
              "    </tr>\n",
              "  </thead>\n",
              "  <tbody>\n",
              "    <tr>\n",
              "      <th>apple</th>\n",
              "      <td>6268.0</td>\n",
              "      <td>4.049697</td>\n",
              "      <td>0.726943</td>\n",
              "      <td>1.0</td>\n",
              "      <td>4.0</td>\n",
              "      <td>4.5</td>\n",
              "      <td>4.5</td>\n",
              "      <td>5.0</td>\n",
              "    </tr>\n",
              "    <tr>\n",
              "      <th>google</th>\n",
              "      <td>9366.0</td>\n",
              "      <td>4.191757</td>\n",
              "      <td>0.515219</td>\n",
              "      <td>1.0</td>\n",
              "      <td>4.0</td>\n",
              "      <td>4.3</td>\n",
              "      <td>4.5</td>\n",
              "      <td>5.0</td>\n",
              "    </tr>\n",
              "  </tbody>\n",
              "</table>\n",
              "</div>"
            ],
            "text/plain": [
              "           count      mean       std  min  25%  50%  75%  max\n",
              "platform                                                     \n",
              "apple     6268.0  4.049697  0.726943  1.0  4.0  4.5  4.5  5.0\n",
              "google    9366.0  4.191757  0.515219  1.0  4.0  4.3  4.5  5.0"
            ]
          },
          "metadata": {
            "tags": []
          },
          "execution_count": 61
        }
      ]
    },
    {
      "cell_type": "code",
      "metadata": {
        "id": "FbXWRuHjFBJ4"
      },
      "source": [
        "# The difference in the means for Permutation1 (0.001103) now looks hugely different to our observed difference of 0.14206. \n",
        "# It's sure starting to look like our observed difference is significant, and that the Null is false; platform does impact on ratings\n",
        "# But to be sure, let's create 10,000 permutations, calculate the mean ratings for Google and Apple apps and the difference between these for each one, and then take the average of all of these differences.\n",
        "# Let's create a vector with the differences - that will be the distibution of the Null.\n",
        "\n",
        "# First, make a list called difference.\n",
        "\n",
        "difference = list()\n",
        "\n",
        "# Now make a for loop that does the following 10,000 times:\n",
        "# 1. makes a permutation of the 'Rating' as you did above\n",
        "# 2. calculates the difference in the mean rating for apple and the mean rating for google. \n",
        "for n in range(10000):\n",
        "    permutation = np.random.permutation(df['Rating'])\n",
        "    difference.append(np.mean(permutation[df['platform']=='apple']) - np.mean(permutation[df['platform']=='google']))"
      ],
      "execution_count": null,
      "outputs": []
    },
    {
      "cell_type": "code",
      "metadata": {
        "colab": {
          "base_uri": "https://localhost:8080/",
          "height": 178
        },
        "id": "EpvExdCBFBJ4",
        "outputId": "c13b50c1-7af3-463b-cfc2-5b9bdb0d88f3"
      },
      "source": [
        "# Make a variable called 'histo', and assign to it the result of plotting a histogram of the difference list. \n",
        "histo = plt.hist(difference)"
      ],
      "execution_count": null,
      "outputs": [
        {
          "output_type": "error",
          "ename": "AttributeError",
          "evalue": "ignored",
          "traceback": [
            "\u001b[0;31m---------------------------------------------------------------------------\u001b[0m",
            "\u001b[0;31mAttributeError\u001b[0m                            Traceback (most recent call last)",
            "\u001b[0;32m<ipython-input-63-3c520dda3969>\u001b[0m in \u001b[0;36m<module>\u001b[0;34m()\u001b[0m\n\u001b[1;32m      1\u001b[0m \u001b[0;31m# Make a variable called 'histo', and assign to it the result of plotting a histogram of the difference list.\u001b[0m\u001b[0;34m\u001b[0m\u001b[0;34m\u001b[0m\u001b[0;34m\u001b[0m\u001b[0m\n\u001b[0;32m----> 2\u001b[0;31m \u001b[0mhisto\u001b[0m \u001b[0;34m=\u001b[0m \u001b[0mplt\u001b[0m\u001b[0;34m.\u001b[0m\u001b[0mhist\u001b[0m\u001b[0;34m(\u001b[0m\u001b[0mdifference\u001b[0m\u001b[0;34m)\u001b[0m\u001b[0;34m\u001b[0m\u001b[0;34m\u001b[0m\u001b[0m\n\u001b[0m",
            "\u001b[0;31mAttributeError\u001b[0m: module 'scipy' has no attribute 'hist'"
          ]
        }
      ]
    },
    {
      "cell_type": "code",
      "metadata": {
        "colab": {
          "base_uri": "https://localhost:8080/"
        },
        "id": "qjw9p8aKFBJ4",
        "outputId": "5feab088-ba43-4f0e-abcb-d27ba0495ea3"
      },
      "source": [
        "# Now make a variable called obs_difference, and assign it the result of the mean of our 'apple' variable and the mean of our 'google variable'\n",
        "obs_difference = np.mean(google) - np.mean(apple)\n",
        "\n",
        "# Make this difference absolute with the built-in abs() function. \n",
        "obs_difference = abs(obs_difference)\n",
        "\n",
        "# Print out this value; it should be 0.1420605474512291. \n",
        "obs_difference"
      ],
      "execution_count": null,
      "outputs": [
        {
          "output_type": "execute_result",
          "data": {
            "text/plain": [
              "0.14206054745123442"
            ]
          },
          "metadata": {
            "tags": []
          },
          "execution_count": 64
        }
      ]
    },
    {
      "cell_type": "markdown",
      "metadata": {
        "id": "4p9DP0cYFBJ5"
      },
      "source": [
        "## Stage 4 -  Evaluating and concluding\n",
        "### 4a. What is our conclusion?"
      ]
    },
    {
      "cell_type": "code",
      "metadata": {
        "colab": {
          "base_uri": "https://localhost:8080/"
        },
        "id": "bKg3Fb1GFBJ5",
        "outputId": "690e4698-d50d-40ca-b101-dc7169491081"
      },
      "source": [
        "'''\n",
        "What do we know? \n",
        "\n",
        "Recall: The p-value of our observed data is just the proportion of the data given the null that's at least as extreme as that observed data.\n",
        "\n",
        "As a result, we're going to count how many of the differences in our difference list are at least as extreme as our observed difference.\n",
        "\n",
        "If less than or equal to 5% of them are, then we will reject the Null. \n",
        "'''\n",
        "positiveExtremes = []\n",
        "negativeExtremes = []\n",
        "for i in range(len(difference)):\n",
        "    if (difference[i] >= obs_difference):\n",
        "        positiveExtremes.append(difference[i])\n",
        "    elif (difference[i] <= -obs_difference):\n",
        "        negativeExtremes.append(difference[i])\n",
        "\n",
        "print(len(positiveExtremes))\n",
        "print(len(negativeExtremes))"
      ],
      "execution_count": null,
      "outputs": [
        {
          "output_type": "stream",
          "text": [
            "0\n",
            "0\n"
          ],
          "name": "stdout"
        }
      ]
    },
    {
      "cell_type": "markdown",
      "metadata": {
        "id": "LF_nT4QjFBJ5"
      },
      "source": [
        "### 4b. What is our decision?\n",
        "So actually, zero differences are at least as extreme as our observed difference!\n",
        "\n",
        "So the p-value of our observed data is 0. \n",
        "\n",
        "It doesn't matter which significance level we pick; our observed data is statistically significant, and we reject the Null.\n",
        "\n",
        "We conclude that platform does impact on ratings. Specifically, we should advise our client to integrate **only Google Play** into their operating system interface. "
      ]
    },
    {
      "cell_type": "markdown",
      "metadata": {
        "id": "fqSwfOEYFBJ5"
      },
      "source": [
        "### 4c. Other statistical tests, and next steps\n",
        "The test we used here is the Permutation test. This was appropriate because our data were not normally distributed! \n",
        "\n",
        "As we've seen in Professor Spiegelhalter's book, there are actually many different statistical tests, all with different assumptions. How many of these different statistical tests can you remember? How much do you remember about what the appropriate conditions are under which to use them? \n",
        "\n",
        "Make a note of your answers to these questions, and discuss them with your mentor at your next call. \n"
      ]
    }
  ]
}